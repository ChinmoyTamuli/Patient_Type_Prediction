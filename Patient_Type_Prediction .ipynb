{
 "cells": [
  {
   "cell_type": "code",
   "execution_count": 23,
   "id": "2bbe23cd",
   "metadata": {},
   "outputs": [],
   "source": [
    "import numpy as np\n",
    "import pandas as pd\n",
    "from sklearn.model_selection import train_test_split\n",
    "from sklearn.preprocessing import StandardScaler\n",
    "from sklearn.linear_model import LogisticRegression\n",
    "from sklearn.tree import DecisionTreeClassifier\n",
    "from sklearn.neural_network import MLPClassifier\n",
    "from sklearn.ensemble import RandomForestClassifier, GradientBoostingClassifier\n",
    "from sklearn.metrics import accuracy_score,f1_score\n",
    "\n",
    "import warnings\n",
    "warnings.filterwarnings(action='ignore')"
   ]
  },
  {
   "cell_type": "code",
   "execution_count": 24,
   "id": "4219df21",
   "metadata": {},
   "outputs": [
    {
     "data": {
      "text/html": [
       "<div>\n",
       "<style scoped>\n",
       "    .dataframe tbody tr th:only-of-type {\n",
       "        vertical-align: middle;\n",
       "    }\n",
       "\n",
       "    .dataframe tbody tr th {\n",
       "        vertical-align: top;\n",
       "    }\n",
       "\n",
       "    .dataframe thead th {\n",
       "        text-align: right;\n",
       "    }\n",
       "</style>\n",
       "<table border=\"1\" class=\"dataframe\">\n",
       "  <thead>\n",
       "    <tr style=\"text-align: right;\">\n",
       "      <th></th>\n",
       "      <th>HAEMATOCRIT</th>\n",
       "      <th>HAEMOGLOBINS</th>\n",
       "      <th>ERYTHROCYTE</th>\n",
       "      <th>LEUCOCYTE</th>\n",
       "      <th>THROMBOCYTE</th>\n",
       "      <th>MCH</th>\n",
       "      <th>MCHC</th>\n",
       "      <th>MCV</th>\n",
       "      <th>AGE</th>\n",
       "      <th>SEX</th>\n",
       "      <th>SOURCE</th>\n",
       "    </tr>\n",
       "  </thead>\n",
       "  <tbody>\n",
       "    <tr>\n",
       "      <th>0</th>\n",
       "      <td>35.1</td>\n",
       "      <td>11.8</td>\n",
       "      <td>4.65</td>\n",
       "      <td>6.3</td>\n",
       "      <td>310</td>\n",
       "      <td>25.4</td>\n",
       "      <td>33.6</td>\n",
       "      <td>75.5</td>\n",
       "      <td>1</td>\n",
       "      <td>F</td>\n",
       "      <td>out</td>\n",
       "    </tr>\n",
       "    <tr>\n",
       "      <th>1</th>\n",
       "      <td>43.5</td>\n",
       "      <td>14.8</td>\n",
       "      <td>5.39</td>\n",
       "      <td>12.7</td>\n",
       "      <td>334</td>\n",
       "      <td>27.5</td>\n",
       "      <td>34.0</td>\n",
       "      <td>80.7</td>\n",
       "      <td>1</td>\n",
       "      <td>F</td>\n",
       "      <td>out</td>\n",
       "    </tr>\n",
       "    <tr>\n",
       "      <th>2</th>\n",
       "      <td>33.5</td>\n",
       "      <td>11.3</td>\n",
       "      <td>4.74</td>\n",
       "      <td>13.2</td>\n",
       "      <td>305</td>\n",
       "      <td>23.8</td>\n",
       "      <td>33.7</td>\n",
       "      <td>70.7</td>\n",
       "      <td>1</td>\n",
       "      <td>F</td>\n",
       "      <td>out</td>\n",
       "    </tr>\n",
       "    <tr>\n",
       "      <th>3</th>\n",
       "      <td>39.1</td>\n",
       "      <td>13.7</td>\n",
       "      <td>4.98</td>\n",
       "      <td>10.5</td>\n",
       "      <td>366</td>\n",
       "      <td>27.5</td>\n",
       "      <td>35.0</td>\n",
       "      <td>78.5</td>\n",
       "      <td>1</td>\n",
       "      <td>F</td>\n",
       "      <td>out</td>\n",
       "    </tr>\n",
       "    <tr>\n",
       "      <th>4</th>\n",
       "      <td>30.9</td>\n",
       "      <td>9.9</td>\n",
       "      <td>4.23</td>\n",
       "      <td>22.1</td>\n",
       "      <td>333</td>\n",
       "      <td>23.4</td>\n",
       "      <td>32.0</td>\n",
       "      <td>73.0</td>\n",
       "      <td>1</td>\n",
       "      <td>M</td>\n",
       "      <td>out</td>\n",
       "    </tr>\n",
       "  </tbody>\n",
       "</table>\n",
       "</div>"
      ],
      "text/plain": [
       "   HAEMATOCRIT  HAEMOGLOBINS  ERYTHROCYTE  LEUCOCYTE  THROMBOCYTE   MCH  MCHC  \\\n",
       "0         35.1          11.8         4.65        6.3          310  25.4  33.6   \n",
       "1         43.5          14.8         5.39       12.7          334  27.5  34.0   \n",
       "2         33.5          11.3         4.74       13.2          305  23.8  33.7   \n",
       "3         39.1          13.7         4.98       10.5          366  27.5  35.0   \n",
       "4         30.9           9.9         4.23       22.1          333  23.4  32.0   \n",
       "\n",
       "    MCV  AGE SEX SOURCE  \n",
       "0  75.5    1   F    out  \n",
       "1  80.7    1   F    out  \n",
       "2  70.7    1   F    out  \n",
       "3  78.5    1   F    out  \n",
       "4  73.0    1   M    out  "
      ]
     },
     "execution_count": 24,
     "metadata": {},
     "output_type": "execute_result"
    }
   ],
   "source": [
    "data=pd.read_csv('data-ori.csv')\n",
    "data.head()"
   ]
  },
  {
   "cell_type": "code",
   "execution_count": 25,
   "id": "36abcc67",
   "metadata": {},
   "outputs": [
    {
     "name": "stdout",
     "output_type": "stream",
     "text": [
      "<class 'pandas.core.frame.DataFrame'>\n",
      "RangeIndex: 4412 entries, 0 to 4411\n",
      "Data columns (total 11 columns):\n",
      " #   Column        Non-Null Count  Dtype  \n",
      "---  ------        --------------  -----  \n",
      " 0   HAEMATOCRIT   4412 non-null   float64\n",
      " 1   HAEMOGLOBINS  4412 non-null   float64\n",
      " 2   ERYTHROCYTE   4412 non-null   float64\n",
      " 3   LEUCOCYTE     4412 non-null   float64\n",
      " 4   THROMBOCYTE   4412 non-null   int64  \n",
      " 5   MCH           4412 non-null   float64\n",
      " 6   MCHC          4412 non-null   float64\n",
      " 7   MCV           4412 non-null   float64\n",
      " 8   AGE           4412 non-null   int64  \n",
      " 9   SEX           4412 non-null   object \n",
      " 10  SOURCE        4412 non-null   object \n",
      "dtypes: float64(7), int64(2), object(2)\n",
      "memory usage: 379.3+ KB\n"
     ]
    }
   ],
   "source": [
    "data.info()"
   ]
  },
  {
   "cell_type": "code",
   "execution_count": 26,
   "id": "6d5de8c1",
   "metadata": {},
   "outputs": [
    {
     "data": {
      "text/plain": [
       "HAEMATOCRIT     0\n",
       "HAEMOGLOBINS    0\n",
       "ERYTHROCYTE     0\n",
       "LEUCOCYTE       0\n",
       "THROMBOCYTE     0\n",
       "MCH             0\n",
       "MCHC            0\n",
       "MCV             0\n",
       "AGE             0\n",
       "SEX             0\n",
       "SOURCE          0\n",
       "dtype: int64"
      ]
     },
     "execution_count": 26,
     "metadata": {},
     "output_type": "execute_result"
    }
   ],
   "source": [
    "data.isna().sum()"
   ]
  },
  {
   "cell_type": "markdown",
   "id": "a33e620a",
   "metadata": {},
   "source": [
    "# Preprocessing"
   ]
  },
  {
   "cell_type": "code",
   "execution_count": 35,
   "id": "7812e000",
   "metadata": {},
   "outputs": [],
   "source": [
    "def preprocess_input(df):\n",
    "    df=df.copy()\n",
    "    \n",
    "    #Binary Encoding\n",
    "    df['SEX']=df['SEX'].replace({'F':0, 'M':1})\n",
    "    \n",
    "    #split df into X and y\n",
    "    y=df['SOURCE']\n",
    "    X=df.drop('SOURCE',axis=1)\n",
    "    \n",
    "    #Train_test_split\n",
    "    X_train,X_test,y_train,y_test =train_test_split(X,y,train_size=0.7,shuffle=True,random_state=1)\n",
    "    \n",
    "    \n",
    "    #Scale X\n",
    "    scaler= StandardScaler()\n",
    "    scaler.fit(X_train)\n",
    "    X_train=pd.DataFrame(scaler.transform(X_train),index=X_train.index, columns=X_train.columns)\n",
    "    X_test=pd.DataFrame(scaler.transform(X_test),index=X_test.index, columns=X_test.columns)\n",
    "    \n",
    "    return X_train,X_test,y_train,y_test"
   ]
  },
  {
   "cell_type": "code",
   "execution_count": 36,
   "id": "487e691c",
   "metadata": {},
   "outputs": [],
   "source": [
    "X_train,X_test,y_train,y_test=preprocess_input(data)"
   ]
  },
  {
   "cell_type": "code",
   "execution_count": 37,
   "id": "48bfa0c4",
   "metadata": {},
   "outputs": [
    {
     "data": {
      "text/html": [
       "<div>\n",
       "<style scoped>\n",
       "    .dataframe tbody tr th:only-of-type {\n",
       "        vertical-align: middle;\n",
       "    }\n",
       "\n",
       "    .dataframe tbody tr th {\n",
       "        vertical-align: top;\n",
       "    }\n",
       "\n",
       "    .dataframe thead th {\n",
       "        text-align: right;\n",
       "    }\n",
       "</style>\n",
       "<table border=\"1\" class=\"dataframe\">\n",
       "  <thead>\n",
       "    <tr style=\"text-align: right;\">\n",
       "      <th></th>\n",
       "      <th>HAEMATOCRIT</th>\n",
       "      <th>HAEMOGLOBINS</th>\n",
       "      <th>ERYTHROCYTE</th>\n",
       "      <th>LEUCOCYTE</th>\n",
       "      <th>THROMBOCYTE</th>\n",
       "      <th>MCH</th>\n",
       "      <th>MCHC</th>\n",
       "      <th>MCV</th>\n",
       "      <th>AGE</th>\n",
       "      <th>SEX</th>\n",
       "    </tr>\n",
       "  </thead>\n",
       "  <tbody>\n",
       "    <tr>\n",
       "      <th>2275</th>\n",
       "      <td>1.521571</td>\n",
       "      <td>0.918324</td>\n",
       "      <td>4.205082</td>\n",
       "      <td>-0.507635</td>\n",
       "      <td>-0.368181</td>\n",
       "      <td>-3.543672</td>\n",
       "      <td>-1.886871</td>\n",
       "      <td>-3.523787</td>\n",
       "      <td>0.113088</td>\n",
       "      <td>-1.043023</td>\n",
       "    </tr>\n",
       "    <tr>\n",
       "      <th>4093</th>\n",
       "      <td>-0.590225</td>\n",
       "      <td>-0.613524</td>\n",
       "      <td>-0.673427</td>\n",
       "      <td>-0.468456</td>\n",
       "      <td>-0.184678</td>\n",
       "      <td>0.106741</td>\n",
       "      <td>-0.267275</td>\n",
       "      <td>0.263954</td>\n",
       "      <td>1.411455</td>\n",
       "      <td>-1.043023</td>\n",
       "    </tr>\n",
       "    <tr>\n",
       "      <th>1727</th>\n",
       "      <td>-1.512041</td>\n",
       "      <td>-1.618799</td>\n",
       "      <td>-1.463160</td>\n",
       "      <td>0.099634</td>\n",
       "      <td>1.195966</td>\n",
       "      <td>-0.228501</td>\n",
       "      <td>-0.996093</td>\n",
       "      <td>0.191392</td>\n",
       "      <td>-0.350615</td>\n",
       "      <td>-1.043023</td>\n",
       "    </tr>\n",
       "    <tr>\n",
       "      <th>615</th>\n",
       "      <td>0.817639</td>\n",
       "      <td>0.870454</td>\n",
       "      <td>0.765924</td>\n",
       "      <td>-0.488046</td>\n",
       "      <td>-0.140986</td>\n",
       "      <td>0.032243</td>\n",
       "      <td>0.380563</td>\n",
       "      <td>-0.127881</td>\n",
       "      <td>-1.138910</td>\n",
       "      <td>0.958752</td>\n",
       "    </tr>\n",
       "    <tr>\n",
       "      <th>1610</th>\n",
       "      <td>0.348351</td>\n",
       "      <td>0.391752</td>\n",
       "      <td>-0.036546</td>\n",
       "      <td>-0.311742</td>\n",
       "      <td>0.260973</td>\n",
       "      <td>0.665478</td>\n",
       "      <td>0.299583</td>\n",
       "      <td>0.670302</td>\n",
       "      <td>-0.443356</td>\n",
       "      <td>-1.043023</td>\n",
       "    </tr>\n",
       "    <tr>\n",
       "      <th>...</th>\n",
       "      <td>...</td>\n",
       "      <td>...</td>\n",
       "      <td>...</td>\n",
       "      <td>...</td>\n",
       "      <td>...</td>\n",
       "      <td>...</td>\n",
       "      <td>...</td>\n",
       "      <td>...</td>\n",
       "      <td>...</td>\n",
       "      <td>...</td>\n",
       "    </tr>\n",
       "    <tr>\n",
       "      <th>2895</th>\n",
       "      <td>0.029906</td>\n",
       "      <td>0.056660</td>\n",
       "      <td>-0.240348</td>\n",
       "      <td>-0.781885</td>\n",
       "      <td>0.531859</td>\n",
       "      <td>0.479233</td>\n",
       "      <td>0.137624</td>\n",
       "      <td>0.510665</td>\n",
       "      <td>0.576790</td>\n",
       "      <td>-1.043023</td>\n",
       "    </tr>\n",
       "    <tr>\n",
       "      <th>2763</th>\n",
       "      <td>-0.003615</td>\n",
       "      <td>-0.278432</td>\n",
       "      <td>-0.533314</td>\n",
       "      <td>-0.703528</td>\n",
       "      <td>0.182329</td>\n",
       "      <td>0.479233</td>\n",
       "      <td>-1.158053</td>\n",
       "      <td>1.149211</td>\n",
       "      <td>0.484050</td>\n",
       "      <td>-1.043023</td>\n",
       "    </tr>\n",
       "    <tr>\n",
       "      <th>905</th>\n",
       "      <td>1.320448</td>\n",
       "      <td>1.444897</td>\n",
       "      <td>0.753186</td>\n",
       "      <td>-0.488046</td>\n",
       "      <td>0.907604</td>\n",
       "      <td>0.926222</td>\n",
       "      <td>0.704482</td>\n",
       "      <td>0.742864</td>\n",
       "      <td>-0.953429</td>\n",
       "      <td>0.958752</td>\n",
       "    </tr>\n",
       "    <tr>\n",
       "      <th>3980</th>\n",
       "      <td>-0.539944</td>\n",
       "      <td>-0.565653</td>\n",
       "      <td>-0.558789</td>\n",
       "      <td>-0.703528</td>\n",
       "      <td>-0.420611</td>\n",
       "      <td>-0.005006</td>\n",
       "      <td>-0.267275</td>\n",
       "      <td>0.089805</td>\n",
       "      <td>1.318715</td>\n",
       "      <td>0.958752</td>\n",
       "    </tr>\n",
       "    <tr>\n",
       "      <th>235</th>\n",
       "      <td>-0.288540</td>\n",
       "      <td>-0.230562</td>\n",
       "      <td>-0.011071</td>\n",
       "      <td>0.334706</td>\n",
       "      <td>0.732839</td>\n",
       "      <td>-0.451995</td>\n",
       "      <td>0.218603</td>\n",
       "      <td>-0.606791</td>\n",
       "      <td>-1.741723</td>\n",
       "      <td>-1.043023</td>\n",
       "    </tr>\n",
       "  </tbody>\n",
       "</table>\n",
       "<p>3088 rows × 10 columns</p>\n",
       "</div>"
      ],
      "text/plain": [
       "      HAEMATOCRIT  HAEMOGLOBINS  ERYTHROCYTE  LEUCOCYTE  THROMBOCYTE  \\\n",
       "2275     1.521571      0.918324     4.205082  -0.507635    -0.368181   \n",
       "4093    -0.590225     -0.613524    -0.673427  -0.468456    -0.184678   \n",
       "1727    -1.512041     -1.618799    -1.463160   0.099634     1.195966   \n",
       "615      0.817639      0.870454     0.765924  -0.488046    -0.140986   \n",
       "1610     0.348351      0.391752    -0.036546  -0.311742     0.260973   \n",
       "...           ...           ...          ...        ...          ...   \n",
       "2895     0.029906      0.056660    -0.240348  -0.781885     0.531859   \n",
       "2763    -0.003615     -0.278432    -0.533314  -0.703528     0.182329   \n",
       "905      1.320448      1.444897     0.753186  -0.488046     0.907604   \n",
       "3980    -0.539944     -0.565653    -0.558789  -0.703528    -0.420611   \n",
       "235     -0.288540     -0.230562    -0.011071   0.334706     0.732839   \n",
       "\n",
       "           MCH      MCHC       MCV       AGE       SEX  \n",
       "2275 -3.543672 -1.886871 -3.523787  0.113088 -1.043023  \n",
       "4093  0.106741 -0.267275  0.263954  1.411455 -1.043023  \n",
       "1727 -0.228501 -0.996093  0.191392 -0.350615 -1.043023  \n",
       "615   0.032243  0.380563 -0.127881 -1.138910  0.958752  \n",
       "1610  0.665478  0.299583  0.670302 -0.443356 -1.043023  \n",
       "...        ...       ...       ...       ...       ...  \n",
       "2895  0.479233  0.137624  0.510665  0.576790 -1.043023  \n",
       "2763  0.479233 -1.158053  1.149211  0.484050 -1.043023  \n",
       "905   0.926222  0.704482  0.742864 -0.953429  0.958752  \n",
       "3980 -0.005006 -0.267275  0.089805  1.318715  0.958752  \n",
       "235  -0.451995  0.218603 -0.606791 -1.741723 -1.043023  \n",
       "\n",
       "[3088 rows x 10 columns]"
      ]
     },
     "execution_count": 37,
     "metadata": {},
     "output_type": "execute_result"
    }
   ],
   "source": [
    "X_train"
   ]
  },
  {
   "cell_type": "code",
   "execution_count": 38,
   "id": "c53a265b",
   "metadata": {},
   "outputs": [
    {
     "data": {
      "text/plain": [
       "2275    out\n",
       "4093     in\n",
       "1727     in\n",
       "615     out\n",
       "1610    out\n",
       "       ... \n",
       "2895    out\n",
       "2763    out\n",
       "905     out\n",
       "3980    out\n",
       "235     out\n",
       "Name: SOURCE, Length: 3088, dtype: object"
      ]
     },
     "execution_count": 38,
     "metadata": {},
     "output_type": "execute_result"
    }
   ],
   "source": [
    "y_train"
   ]
  },
  {
   "cell_type": "code",
   "execution_count": 39,
   "id": "756ebc06",
   "metadata": {},
   "outputs": [
    {
     "data": {
      "text/plain": [
       "out    1834\n",
       "in     1254\n",
       "Name: SOURCE, dtype: int64"
      ]
     },
     "execution_count": 39,
     "metadata": {},
     "output_type": "execute_result"
    }
   ],
   "source": [
    "y_train.value_counts()"
   ]
  },
  {
   "cell_type": "markdown",
   "id": "ac519e40",
   "metadata": {},
   "source": [
    "# Training"
   ]
  },
  {
   "cell_type": "code",
   "execution_count": 40,
   "id": "0a29d3dd",
   "metadata": {},
   "outputs": [
    {
     "name": "stdout",
     "output_type": "stream",
     "text": [
      "Logistic Regression trained.\n",
      "      Decision Tree trained.\n",
      "     Neural Network trained.\n",
      "      Random Forest trained.\n",
      "  Gradient Boosting trained.\n"
     ]
    }
   ],
   "source": [
    "models = {\n",
    "    \"Logistic Regression\": LogisticRegression(),\n",
    "    \"      Decision Tree\": DecisionTreeClassifier(),\n",
    "    \"     Neural Network\": MLPClassifier(),\n",
    "    \"      Random Forest\": RandomForestClassifier(),\n",
    "    \"  Gradient Boosting\": GradientBoostingClassifier()\n",
    "}\n",
    "\n",
    "for name, model in models.items():\n",
    "    model.fit(X_train, y_train)\n",
    "    print(name + \" trained.\")"
   ]
  },
  {
   "cell_type": "markdown",
   "id": "b454dbd3",
   "metadata": {},
   "source": [
    "# Result"
   ]
  },
  {
   "cell_type": "code",
   "execution_count": 41,
   "id": "9811668c",
   "metadata": {},
   "outputs": [
    {
     "name": "stdout",
     "output_type": "stream",
     "text": [
      "Logistic RegressionAccuracy: 71.15%\n",
      "      Decision TreeAccuracy: 66.77%\n",
      "     Neural NetworkAccuracy: 74.17%\n",
      "      Random ForestAccuracy: 74.02%\n",
      "  Gradient BoostingAccuracy: 73.64%\n"
     ]
    }
   ],
   "source": [
    "for name,model in models.items():\n",
    "    y_pred = model.predict(X_test)\n",
    "    acc=accuracy_score(y_test,y_pred)\n",
    "    print(name+ \"Accuracy: {:.2f}%\".format(acc*100))"
   ]
  },
  {
   "cell_type": "code",
   "execution_count": 42,
   "id": "e48a1f20",
   "metadata": {},
   "outputs": [
    {
     "name": "stdout",
     "output_type": "stream",
     "text": [
      "Logistic RegressionF1-Score: 0.59705%\n",
      "      Decision TreeF1-Score: 0.59259%\n",
      "     Neural NetworkF1-Score: 0.66732%\n",
      "      Random ForestF1-Score: 0.66208%\n",
      "  Gradient BoostingF1-Score: 0.64783%\n"
     ]
    }
   ],
   "source": [
    "for name,model in models.items():\n",
    "    y_pred = model.predict(X_test)\n",
    "    f1=f1_score(y_test,y_pred,pos_label='in')\n",
    "    print(name+ \"F1-Score: {:.5f}%\".format(f1))"
   ]
  },
  {
   "cell_type": "code",
   "execution_count": null,
   "id": "6bac7356",
   "metadata": {},
   "outputs": [],
   "source": []
  }
 ],
 "metadata": {
  "kernelspec": {
   "display_name": "Python 3 (ipykernel)",
   "language": "python",
   "name": "python3"
  },
  "language_info": {
   "codemirror_mode": {
    "name": "ipython",
    "version": 3
   },
   "file_extension": ".py",
   "mimetype": "text/x-python",
   "name": "python",
   "nbconvert_exporter": "python",
   "pygments_lexer": "ipython3",
   "version": "3.9.12"
  }
 },
 "nbformat": 4,
 "nbformat_minor": 5
}
